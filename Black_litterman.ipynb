{
 "cells": [
  {
   "cell_type": "markdown",
   "id": "25418c77-9d02-4899-8177-7198390046b1",
   "metadata": {},
   "source": [
    "<h1> Black-Litterman Optimization"
   ]
  },
  {
   "cell_type": "markdown",
   "id": "b2651b41-59e2-451a-9317-582a41714222",
   "metadata": {},
   "source": [
    "Black-Litterman Model\n",
    "\n",
    "$$\n",
    "\\max_{w} \\, \\mu_{BL}^T w - \\frac{\\lambda}{2} w^T \\Sigma_{BL} w\n",
    "$$\n",
    "\n",
    "- λ: Risk aversion coefficient  \n",
    "- w: Asset allocation weights, \\( w^T 1 = 1 \\)  \n",
    "- μ_BL: Expected returns of assets reflecting investor views  \n",
    "- Σ_BL: Covariance matrix of asset returns reflecting investor views"
   ]
  },
  {
   "cell_type": "code",
   "execution_count": 1,
   "id": "8a288e5f-8f1d-43f5-97c3-25da406d691e",
   "metadata": {
    "pycharm": {
     "name": "#%%\n"
    }
   },
   "outputs": [
    {
     "name": "stdout",
     "output_type": "stream",
     "text": [
      "Requirement already satisfied: PyPortfolioOpt in c:\\users\\wishk\\anaconda3\\lib\\site-packages (1.5.5)\n",
      "Requirement already satisfied: cvxpy<2.0.0,>=1.1.19 in c:\\users\\wishk\\anaconda3\\lib\\site-packages (from PyPortfolioOpt) (1.6.0)\n",
      "Requirement already satisfied: numpy<2.0.0,>=1.22.4 in c:\\users\\wishk\\anaconda3\\lib\\site-packages (from PyPortfolioOpt) (1.26.4)\n",
      "Requirement already satisfied: pandas>=0.19 in c:\\users\\wishk\\anaconda3\\lib\\site-packages (from PyPortfolioOpt) (2.1.4)\n",
      "Requirement already satisfied: scipy<2.0,>=1.3 in c:\\users\\wishk\\anaconda3\\lib\\site-packages (from PyPortfolioOpt) (1.11.4)\n",
      "Requirement already satisfied: osqp>=0.6.2 in c:\\users\\wishk\\anaconda3\\lib\\site-packages (from cvxpy<2.0.0,>=1.1.19->PyPortfolioOpt) (0.6.7.post3)\n",
      "Requirement already satisfied: clarabel>=0.5.0 in c:\\users\\wishk\\anaconda3\\lib\\site-packages (from cvxpy<2.0.0,>=1.1.19->PyPortfolioOpt) (0.9.0)\n",
      "Requirement already satisfied: scs>=3.2.4.post1 in c:\\users\\wishk\\anaconda3\\lib\\site-packages (from cvxpy<2.0.0,>=1.1.19->PyPortfolioOpt) (3.2.7)\n",
      "Requirement already satisfied: python-dateutil>=2.8.2 in c:\\users\\wishk\\anaconda3\\lib\\site-packages (from pandas>=0.19->PyPortfolioOpt) (2.8.2)\n",
      "Requirement already satisfied: pytz>=2020.1 in c:\\users\\wishk\\anaconda3\\lib\\site-packages (from pandas>=0.19->PyPortfolioOpt) (2023.3.post1)\n",
      "Requirement already satisfied: tzdata>=2022.1 in c:\\users\\wishk\\anaconda3\\lib\\site-packages (from pandas>=0.19->PyPortfolioOpt) (2023.3)\n",
      "Requirement already satisfied: qdldl in c:\\users\\wishk\\anaconda3\\lib\\site-packages (from osqp>=0.6.2->cvxpy<2.0.0,>=1.1.19->PyPortfolioOpt) (0.1.7.post4)\n",
      "Requirement already satisfied: six>=1.5 in c:\\users\\wishk\\anaconda3\\lib\\site-packages (from python-dateutil>=2.8.2->pandas>=0.19->PyPortfolioOpt) (1.16.0)\n"
     ]
    }
   ],
   "source": [
    "!pip install PyPortfolioOpt\n",
    "\n",
    "# coding: utf-8\n",
    "from typing import Dict, Optional\n",
    "\n",
    "import numpy as np\n",
    "import pandas as pd\n",
    "import plotly.express as px\n",
    "from numpy.linalg import inv, pinv\n",
    "from pypfopt import EfficientFrontier\n",
    "\n",
    "# provided as *.py in directory\n",
    "from data_loader import PykrxDataLoader\n",
    "from account import Account\n",
    "from broker import Broker\n",
    "from utility import get_lookback_fromdate\n",
    "from utility import rebalance\n",
    "from metric import cagr, mdd, sharpe_ratio, sortino_ratio\n",
    "from visualize import plot_cumulative_return"
   ]
  },
  {
   "cell_type": "markdown",
   "id": "d0374fa6",
   "metadata": {
    "pycharm": {
     "name": "#%% md\n"
    }
   },
   "source": [
    "<h1> Calculate return function"
   ]
  },
  {
   "cell_type": "code",
   "execution_count": 11,
   "id": "2c368b2c-7c80-456d-a0bd-957228d6b82e",
   "metadata": {},
   "outputs": [],
   "source": [
    "# This calculates the percentage returns based on the closing prices in the OHLCV (Open-High-Low-Close-Volume) data.\n",
    "def calculate_return(ohlcv_data: pd.DataFrame):\n",
    "    \n",
    "    close_data = ohlcv_data[['close', 'ticker']].reset_index().set_index(\n",
    "        ['ticker', 'date']).unstack(level=0)\n",
    "    close_data = close_data['close']\n",
    "\n",
    "    # Calculate\n",
    "    return_data = close_data.pct_change(1) * 100\n",
    "\n",
    "    return return_data\n"
   ]
  },
  {
   "cell_type": "markdown",
   "id": "24339283-5f0e-4288-934e-3483af27cb43",
   "metadata": {},
   "source": [
    "<h1> B-L portfolio weights function"
   ]
  },
  {
   "cell_type": "code",
   "execution_count": 12,
   "id": "a79cf276",
   "metadata": {
    "pycharm": {
     "name": "#%%\n"
    }
   },
   "outputs": [],
   "source": [
    "\n",
    "# This applies the Black-Litterman model to calculate portfolio weights, given market data and investor views\n",
    "\n",
    "def get_black_litterman_weights(return_data: pd.DataFrame,\n",
    "                                ohlcv_data: pd.DataFrame,\n",
    "                                views: np.array,               # An array containing investor views on returns\n",
    "                                relation_matrix: np.array,     # A matrix relating investor views to assets\n",
    "                                risk_aversion: Optional[float] = None,\n",
    "                                risk_free_rate: Optional[float] = 0.00) -> Optional[Dict]:\n",
    "    # 1. Check missing data\n",
    "    if return_data.isnull().values.any():\n",
    "        return None\n",
    "\n",
    "    # 2. Calculates the covariance matrix of the returns data\n",
    "    covariance = return_data.cov().values\n",
    "    if np.isnan(covariance).any():\n",
    "        return None\n",
    "\n",
    "    # 3. Uses market capitalization to compute the proportionate weights of each asset\n",
    "    market_weight = ohlcv_data['market_cap'] / sum(ohlcv_data['market_cap'])\n",
    "    market_weight.index = ohlcv_data['ticker'].to_list()\n",
    "    ticker_order = return_data.columns\n",
    "    market_weight = market_weight.reindex(ticker_order)\n",
    "\n",
    "    # 4. Risk Aversion Coefficient Calculation\n",
    "    # -- 1) 기대수익률 및 분산 계산\n",
    "    expected_return = return_data.mean().multiply(market_weight).sum()\n",
    "    variance = market_weight.T.values @ covariance @ market_weight.values\n",
    "    # -- 2) 초과수익률 및 위험회피계수 계산\n",
    "    excess_return = expected_return - risk_free_rate\n",
    "    risk_aversion_coefficient = (\n",
    "            excess_return / variance) if risk_aversion is None else risk_aversion\n",
    "    # -- 3) 위험회피계수가 음수인 경우 핸들링\n",
    "    if risk_aversion_coefficient < 0:\n",
    "        print(\n",
    "            f'risk_aversion_coefficient is negative: {risk_aversion_coefficient}.'\n",
    "            f'\\nTherefore, it is replaced with the value of 2.3.')\n",
    "        risk_aversion_coefficient = 0.025\n",
    "\n",
    "    # 5. Calculates equilibrium returns, which represent the \"implied\" returns from the market.\n",
    "    equilibrium_returns = risk_aversion_coefficient * covariance.dot(market_weight)\n",
    "\n",
    "    # 6. Defines an uncertainty matrix (omega) based on investor views, using tau (a scaling parameter) \n",
    "    #    and the relation_matrix (P), which reflects how views relate to assets.\n",
    "    tau = 0.025\n",
    "    K = len(views)\n",
    "    P = relation_matrix\n",
    "    omega = tau * P.dot(covariance).dot(P.T) * np.eye(N=K)\n",
    "\n",
    "    # 7. Black-Litterman Expected Returns Calculation\n",
    "    # E(R)=[(τΣ)^(-1)+P^T ΩP]^(-1) [(τΣ)^(-1) Π+P^T ΩQ]\n",
    "    BL_expected_return = equilibrium_returns + tau * covariance.dot(P.T).dot(\n",
    "        inv(P.dot(tau * covariance).dot(P.T) + omega).dot(Q - P.dot(equilibrium_returns)))\n",
    "\n",
    "    # 8. Black-Litterman Covariance Matrix Calculation\n",
    "    # ΣBL= Σ + [(τΣ)−1+PTΩ−1P]−1\n",
    "    # ΣBL= Σ + Alpha\n",
    "    # When using inv() instead of pinv(), Alpha becomes asymmetric.\n",
    "    Alpha = pinv(pinv(tau * covariance) + P.T @ inv(omega) @ P).round(9)\n",
    "    BL_covariance = covariance + Alpha\n",
    "    BL_covariance = pd.DataFrame(data=BL_covariance, index=ticker_order, columns=ticker_order)\n",
    "\n",
    "    # optimization\n",
    "    # Initializes an instance of EfficientFrontier with the calculated Black-Litterman expected returns and covariance matrix, \n",
    "    # using OSQP as the solver.\n",
    "\n",
    "\n",
    "    ef = EfficientFrontier(\n",
    "        expected_returns=BL_expected_return,\n",
    "        cov_matrix=BL_covariance,\n",
    "        solver='OSQP'\n",
    "    )\n",
    "\n",
    "    ef.max_quadratic_utility(risk_aversion=risk_aversion_coefficient)\n",
    "    weights = dict(ef.clean_weights(rounding=None))\n",
    "\n",
    "    return weights\n"
   ]
  },
  {
   "cell_type": "markdown",
   "id": "2cab2745",
   "metadata": {
    "pycharm": {
     "name": "#%% md\n"
    }
   },
   "source": [
    "<h1> B-L simulation function"
   ]
  },
  {
   "cell_type": "code",
   "execution_count": 86,
   "id": "f322f9cc",
   "metadata": {
    "pycharm": {
     "name": "#%%\n"
    }
   },
   "outputs": [],
   "source": [
    "# simulate_black_litterman iterates through each date to rebalance the portfolio based on updated weights \n",
    "# calculated using the Black-Litterman model.\n",
    "\n",
    "\n",
    "def simulate_black_litterman(ohlcv_data: pd.DataFrame,\n",
    "                             window_length: int,\n",
    "                             views: np.array,\n",
    "                             relation_matrix: np.array,\n",
    "                             risk_aversion: Optional[float] = None,\n",
    "                             risk_free: Optional[float] = 0.00) -> Account:\n",
    "    # 1. 계좌 및 브로커 선언\n",
    "    account = Account(initial_cash=100000000)\n",
    "    broker = Broker()\n",
    "\n",
    "    # 2. 수익률 계산\n",
    "    return_data = calculate_return(ohlcv_data=ohlcv_data)\n",
    "\n",
    "    for date, ohlcv in ohlcv_data.groupby(['date']):\n",
    "        print(date)\n",
    "\n",
    "        # 3. 주문 집행 및 계좌 갱신\n",
    "        transactions = broker.process_order(dt=date, data=ohlcv,\n",
    "                                            orders=account.orders)\n",
    "        account.update_position(transactions=transactions)\n",
    "        account.update_portfolio(dt=date, data=ohlcv)\n",
    "        account.update_order()\n",
    "\n",
    "        # 4. 블랙-리터만 전략을 이용하여 포트폴리오 구성\n",
    "        \n",
    "        if isinstance(date, tuple):\n",
    "           date = date[0]  # Extract the first element if it's a tuple\n",
    "\n",
    "        if not isinstance(date, pd.Timestamp):\n",
    "           date = pd.Timestamp(date)  # Ensure it's a Timestamp\n",
    "\n",
    "\n",
    "        return_data_slice = return_data.loc[:date].iloc[-window_length:, :]  # loc selects by label, iloc selects by position(row numbers)\n",
    "        weights = get_black_litterman_weights(return_data=return_data_slice,\n",
    "                                              ohlcv_data=ohlcv,\n",
    "                                              risk_aversion=risk_aversion,\n",
    "                                              risk_free_rate=risk_free,\n",
    "                                              views=views,\n",
    "                                              relation_matrix=relation_matrix)\n",
    "\n",
    "        print(f'Portfolio: {weights}')\n",
    "        if weights is None:\n",
    "            continue\n",
    "\n",
    "        # 6. 주문\n",
    "        rebalance(dt=date, data=ohlcv, account=account, weights=weights)\n",
    "\n",
    "    return account\n"
   ]
  },
  {
   "cell_type": "markdown",
   "id": "ffbe3585",
   "metadata": {
    "pycharm": {
     "name": "#%% md\n"
    }
   },
   "source": [
    "<h1> Simulation Example</h1>"
   ]
  },
  {
   "cell_type": "code",
   "execution_count": 87,
   "id": "95cc0fe1",
   "metadata": {
    "pycharm": {
     "name": "#%%\n"
    },
    "scrolled": true
   },
   "outputs": [],
   "source": [
    "# Date\n",
    "fromdate = '2020-07-10'\n",
    "todate = '2023-09-27'\n",
    "\n",
    "# Ticker\n",
    "ticker_list = ['005930', '000660', '207940', \n",
    "               '051910', '006400', '005380', \n",
    "               '000270', '005490', '035420']\n",
    "\n",
    "# Window\n",
    "window = 10\n",
    "\n",
    "adj_fromdate = get_lookback_fromdate(fromdate=fromdate, lookback=window, freq='m')\n",
    "\n",
    "# Load data\n",
    "data_loader = PykrxDataLoader(fromdate=adj_fromdate, todate=todate, market=\"KOSPI\")\n",
    "ohlcv_data = data_loader.load_stock_data(ticker_list=ticker_list, freq='m', delay=1)\n",
    "\n",
    "# Market capitalization\n",
    "market_cap_data = data_loader.load_market_cap_data(\n",
    "    ticker_list=ticker_list, freq='m', delay=1)\n"
   ]
  },
  {
   "cell_type": "code",
   "execution_count": 88,
   "id": "663780f6",
   "metadata": {
    "pycharm": {
     "name": "#%%\n"
    },
    "scrolled": true
   },
   "outputs": [
    {
     "data": {
      "text/html": [
       "<div>\n",
       "<style scoped>\n",
       "    .dataframe tbody tr th:only-of-type {\n",
       "        vertical-align: middle;\n",
       "    }\n",
       "\n",
       "    .dataframe tbody tr th {\n",
       "        vertical-align: top;\n",
       "    }\n",
       "\n",
       "    .dataframe thead th {\n",
       "        text-align: right;\n",
       "    }\n",
       "</style>\n",
       "<table border=\"1\" class=\"dataframe\">\n",
       "  <thead>\n",
       "    <tr style=\"text-align: right;\">\n",
       "      <th></th>\n",
       "      <th>ticker</th>\n",
       "      <th>open</th>\n",
       "      <th>high</th>\n",
       "      <th>low</th>\n",
       "      <th>close</th>\n",
       "      <th>volume</th>\n",
       "      <th>market_cap</th>\n",
       "    </tr>\n",
       "    <tr>\n",
       "      <th>date</th>\n",
       "      <th></th>\n",
       "      <th></th>\n",
       "      <th></th>\n",
       "      <th></th>\n",
       "      <th></th>\n",
       "      <th></th>\n",
       "      <th></th>\n",
       "    </tr>\n",
       "  </thead>\n",
       "  <tbody>\n",
       "    <tr>\n",
       "      <th>2019-10-31</th>\n",
       "      <td>000270</td>\n",
       "      <td>41950</td>\n",
       "      <td>43100</td>\n",
       "      <td>41950</td>\n",
       "      <td>42550</td>\n",
       "      <td>1226642</td>\n",
       "      <td>17248210414850</td>\n",
       "    </tr>\n",
       "    <tr>\n",
       "      <th>2019-11-30</th>\n",
       "      <td>000270</td>\n",
       "      <td>42150</td>\n",
       "      <td>44800</td>\n",
       "      <td>41800</td>\n",
       "      <td>43250</td>\n",
       "      <td>18030352</td>\n",
       "      <td>17531964757750</td>\n",
       "    </tr>\n",
       "    <tr>\n",
       "      <th>2019-12-31</th>\n",
       "      <td>000270</td>\n",
       "      <td>43300</td>\n",
       "      <td>45650</td>\n",
       "      <td>42150</td>\n",
       "      <td>44300</td>\n",
       "      <td>16584597</td>\n",
       "      <td>17957596272100</td>\n",
       "    </tr>\n",
       "    <tr>\n",
       "      <th>2020-01-31</th>\n",
       "      <td>000270</td>\n",
       "      <td>44100</td>\n",
       "      <td>44300</td>\n",
       "      <td>39950</td>\n",
       "      <td>40900</td>\n",
       "      <td>24817954</td>\n",
       "      <td>16579360892300</td>\n",
       "    </tr>\n",
       "    <tr>\n",
       "      <th>2020-02-29</th>\n",
       "      <td>000270</td>\n",
       "      <td>40200</td>\n",
       "      <td>42300</td>\n",
       "      <td>36000</td>\n",
       "      <td>36250</td>\n",
       "      <td>22325910</td>\n",
       "      <td>14694421328750</td>\n",
       "    </tr>\n",
       "  </tbody>\n",
       "</table>\n",
       "</div>"
      ],
      "text/plain": [
       "            ticker   open   high    low  close    volume      market_cap\n",
       "date                                                                    \n",
       "2019-10-31  000270  41950  43100  41950  42550   1226642  17248210414850\n",
       "2019-11-30  000270  42150  44800  41800  43250  18030352  17531964757750\n",
       "2019-12-31  000270  43300  45650  42150  44300  16584597  17957596272100\n",
       "2020-01-31  000270  44100  44300  39950  40900  24817954  16579360892300\n",
       "2020-02-29  000270  40200  42300  36000  36250  22325910  14694421328750"
      ]
     },
     "execution_count": 88,
     "metadata": {},
     "output_type": "execute_result"
    }
   ],
   "source": [
    "# Merge dataframe\n",
    "data = pd.merge(ohlcv_data.reset_index(),\n",
    "                market_cap_data[['market_cap', 'ticker']].reset_index(),\n",
    "                on=['date', 'ticker']).set_index('date')\n",
    "\n",
    "data.head()"
   ]
  },
  {
   "cell_type": "code",
   "execution_count": 89,
   "id": "bf45c8f9-f30b-41a3-989c-e8ba68c2ddec",
   "metadata": {},
   "outputs": [
    {
     "name": "stdout",
     "output_type": "stream",
     "text": [
      "DatetimeIndex(['2019-10-31', '2019-11-30', '2019-12-31', '2020-01-31',\n",
      "               '2020-02-29', '2020-03-31', '2020-04-30', '2020-05-31',\n",
      "               '2020-06-30', '2020-07-31', '2020-08-31', '2020-09-30',\n",
      "               '2020-10-31', '2020-11-30', '2020-12-31', '2021-01-31',\n",
      "               '2021-02-28', '2021-03-31', '2021-04-30', '2021-05-31',\n",
      "               '2021-06-30', '2021-07-31', '2021-08-31', '2021-09-30',\n",
      "               '2021-10-31', '2021-11-30', '2021-12-31', '2022-01-31',\n",
      "               '2022-02-28', '2022-03-31', '2022-04-30', '2022-05-31',\n",
      "               '2022-06-30', '2022-07-31', '2022-08-31', '2022-09-30',\n",
      "               '2022-10-31', '2022-11-30', '2022-12-31', '2023-01-31',\n",
      "               '2023-02-28', '2023-03-31', '2023-04-30', '2023-05-31',\n",
      "               '2023-06-30', '2023-07-31', '2023-08-31', '2023-09-30'],\n",
      "              dtype='datetime64[ns]', name='date', freq=None)\n",
      "['date']\n",
      "The index is a DatetimeIndex.\n"
     ]
    }
   ],
   "source": [
    "return_data = calculate_return(ohlcv_data=ohlcv_data)\n",
    "print(return_data.index)\n",
    "print(return_data.index.names)\n",
    "if isinstance(return_data.index, pd.DatetimeIndex):\n",
    "    print(\"The index is a DatetimeIndex.\")\n",
    "else:\n",
    "    print(\"The index is NOT a DatetimeIndex.\")\n"
   ]
  },
  {
   "cell_type": "code",
   "execution_count": 90,
   "id": "2855f92d",
   "metadata": {
    "pycharm": {
     "name": "#%%\n"
    },
    "scrolled": true
   },
   "outputs": [
    {
     "name": "stdout",
     "output_type": "stream",
     "text": [
      "(Timestamp('2019-10-31 00:00:00'),)\n",
      "Portfolio: None\n",
      "(Timestamp('2019-11-30 00:00:00'),)\n",
      "Portfolio: None\n",
      "(Timestamp('2019-12-31 00:00:00'),)\n",
      "Portfolio: None\n",
      "(Timestamp('2020-01-31 00:00:00'),)\n",
      "Portfolio: None\n",
      "(Timestamp('2020-02-29 00:00:00'),)\n",
      "Portfolio: None\n",
      "(Timestamp('2020-03-31 00:00:00'),)\n",
      "Portfolio: None\n",
      "(Timestamp('2020-04-30 00:00:00'),)\n",
      "Portfolio: None\n",
      "(Timestamp('2020-05-31 00:00:00'),)\n",
      "Portfolio: None\n",
      "(Timestamp('2020-06-30 00:00:00'),)\n",
      "Portfolio: None\n",
      "(Timestamp('2020-07-31 00:00:00'),)\n",
      "Portfolio: None\n",
      "(Timestamp('2020-08-31 00:00:00'),)\n",
      "Portfolio: {'000270': 0.0, '000660': 0.2612141823172792, '005380': 0.0646417604840226, '005490': 0.040829012500081, '005930': 0.4078422493810178, '006400': 0.0931812774480518, '035420': 0.1322915178695474, '051910': 0.0, '207940': 0.0}\n",
      "(Timestamp('2020-09-30 00:00:00'),)\n",
      "Portfolio: {'000270': 0.0, '000660': 0.2141460068170406, '005380': 0.0595347678306836, '005490': 0.0320605585374704, '005930': 0.466587237910671, '006400': 0.0806734525007398, '035420': 0.1159080476058288, '051910': 0.0, '207940': 0.0310899287975658}\n",
      "(Timestamp('2020-10-31 00:00:00'),)\n",
      "Portfolio: {'000270': 0.0, '000660': 0.2734672422446251, '005380': 0.0337685995362886, '005490': 0.0698466211823351, '005930': 0.3946842873271563, '006400': 0.084225061986064, '035420': 0.1169287415789286, '051910': 0.0, '207940': 0.0270794461446022}\n",
      "(Timestamp('2020-11-30 00:00:00'),)\n",
      "Portfolio: {'000270': 0.0723327328642511, '000660': 0.3850968059690204, '005380': 0.0071125830471852, '005490': 0.0745031015098272, '005930': 0.2169905283216369, '006400': 0.0183596164447603, '035420': 0.2256046318433195, '051910': 0.0, '207940': 0.0}\n",
      "(Timestamp('2020-12-31 00:00:00'),)\n",
      "Portfolio: {'000270': 0.0807480135356073, '000660': 0.422091903890402, '005380': 0.0, '005490': 0.0951452257257211, '005930': 0.1671265506259132, '006400': 0.009463696822234, '035420': 0.2254246094001224, '051910': 0.0, '207940': 0.0}\n",
      "(Timestamp('2021-01-31 00:00:00'),)\n",
      "Portfolio: {'000270': 0.0568645166125467, '000660': 0.1718628289918192, '005380': 0.0810800849928693, '005490': 0.0718450042255742, '005930': 0.4357741920461906, '006400': 0.0360121180230873, '035420': 0.0924808274313081, '051910': 0.0, '207940': 0.0540804276766048}\n",
      "(Timestamp('2021-02-28 00:00:00'),)\n",
      "Portfolio: {'000270': 0.0815282523605127, '000660': 0.1327565482256787, '005380': 0.0601827560533322, '005490': 0.0808038030110572, '005930': 0.4676335462114857, '006400': 0.0331122644060484, '035420': 0.0787450363101623, '051910': 0.0, '207940': 0.0652377934217227}\n",
      "(Timestamp('2021-03-31 00:00:00'),)\n",
      "Portfolio: {'000270': 0.088509436536257, '000660': 0.1362387439219691, '005380': 0.0517723808913516, '005490': 0.0935725177231728, '005930': 0.4636286236341167, '006400': 0.0225046247195536, '035420': 0.0847453033964598, '051910': 0.0, '207940': 0.0590283691771196}\n",
      "(Timestamp('2021-04-30 00:00:00'),)\n",
      "Portfolio: {'000270': 0.105675798748567, '000660': 0.133443442729497, '005380': 0.0623402226197798, '005490': 0.1056893076200733, '005930': 0.4552172552352027, '006400': 0.0, '035420': 0.0833645203657349, '051910': 0.0, '207940': 0.0542694526811451}\n",
      "(Timestamp('2021-05-31 00:00:00'),)\n",
      "Portfolio: {'000270': 0.1205162902077724, '000660': 0.0898881200825712, '005380': 0.0851585450056406, '005490': 0.1419522312311488, '005930': 0.4873069028210047, '006400': 0.0, '035420': 0.0751779106518623, '051910': 0.0, '207940': 0.0}\n",
      "(Timestamp('2021-06-30 00:00:00'),)\n",
      "Portfolio: {'000270': 0.1087319213424306, '000660': 0.0853360079935464, '005380': 0.0425872022648791, '005490': 0.13166817825829, '005930': 0.4900883022077429, '006400': 0.0, '035420': 0.1415883879331112, '051910': 0.0, '207940': 0.0}\n",
      "(Timestamp('2021-07-31 00:00:00'),)\n",
      "Portfolio: {'000270': 0.0814121353219174, '000660': 0.0575528496762653, '005380': 0.026976169126996, '005490': 0.1269827760657584, '005930': 0.4729160238455578, '006400': 0.0, '035420': 0.2107725274788359, '051910': 0.0, '207940': 0.0233875184846692}\n",
      "(Timestamp('2021-08-31 00:00:00'),)\n",
      "Portfolio: {'000270': 0.030014035658021, '000660': 0.089081063388186, '005380': 0.0158890225831476, '005490': 0.029962721439389, '005930': 0.4825441249977048, '006400': 0.0, '035420': 0.223771991796797, '051910': 0.0, '207940': 0.1287370401367545}\n",
      "(Timestamp('2021-09-30 00:00:00'),)\n",
      "Portfolio: {'000270': 0.0723196917615255, '000660': 0.1219977283044903, '005380': 0.0, '005490': 0.0184096260255243, '005930': 0.5179943545282406, '006400': 0.0, '035420': 0.1173490408221416, '051910': 0.0488078318725909, '207940': 0.1031217266854866}\n",
      "(Timestamp('2021-10-31 00:00:00'),)\n",
      "risk_aversion_coefficient is negative: -0.009469167504692132.\n",
      "Therefore, it is replaced with the value of 2.3.\n",
      "Portfolio: {'000270': 0.0462018665837082, '000660': 0.0877846105615199, '005380': 0.0331124686622754, '005490': 0.0156436218516928, '005930': 0.5320278484983632, '006400': 0.0357489471940854, '035420': 0.0945126110246698, '051910': 0.0369964973172705, '207940': 0.1179715283064149}\n",
      "(Timestamp('2021-11-30 00:00:00'),)\n",
      "risk_aversion_coefficient is negative: -0.183286482164735.\n",
      "Therefore, it is replaced with the value of 2.3.\n",
      "Portfolio: {'000270': 0.0472875620535586, '000660': 0.0999189985652936, '005380': 0.0445353167343721, '005490': 0.024410919479409, '005930': 0.5402127799765325, '006400': 0.0531224330995607, '035420': 0.0751639885316971, '051910': 0.0667176243884307, '207940': 0.0486303771711459}\n",
      "(Timestamp('2021-12-31 00:00:00'),)\n",
      "risk_aversion_coefficient is negative: -0.0295793085085224.\n",
      "Therefore, it is replaced with the value of 2.3.\n",
      "Portfolio: {'000270': 0.0709475470906689, '000660': 0.0882500204568519, '005380': 0.0153469566677715, '005490': 0.0, '005930': 0.5965351139198005, '006400': 0.0271369459461694, '035420': 0.0761116368437282, '051910': 0.1020116891088102, '207940': 0.0236600899661993}\n",
      "(Timestamp('2022-01-31 00:00:00'),)\n",
      "risk_aversion_coefficient is negative: -0.062046975064196035.\n",
      "Therefore, it is replaced with the value of 2.3.\n",
      "Portfolio: {'000270': 0.1139877378992061, '000660': 0.1138936013255902, '005380': 0.0, '005490': 0.0, '005930': 0.5714256714218635, '006400': 0.044811445614069, '035420': 0.0166796275343668, '051910': 0.1392019162049044, '207940': 0.0}\n",
      "(Timestamp('2022-02-28 00:00:00'),)\n",
      "risk_aversion_coefficient is negative: -0.07448640704253447.\n",
      "Therefore, it is replaced with the value of 2.3.\n",
      "Portfolio: {'000270': 0.0796186231323298, '000660': 0.1299201851530493, '005380': 0.0, '005490': 0.0301110683249445, '005930': 0.5477616903131749, '006400': 0.0311210653640719, '035420': 0.0399165471405818, '051910': 0.1415508205718478, '207940': 0.0}\n",
      "(Timestamp('2022-03-31 00:00:00'),)\n",
      "risk_aversion_coefficient is negative: -0.07812528550635378.\n",
      "Therefore, it is replaced with the value of 2.3.\n",
      "Portfolio: {'000270': 0.0664888344459819, '000660': 0.1822837260321948, '005380': 0.0, '005490': 0.0593483836462636, '005930': 0.4538364412808433, '006400': 0.1015818726255366, '035420': 0.0, '051910': 0.13646074196918, '207940': 0.0}\n",
      "(Timestamp('2022-04-30 00:00:00'),)\n",
      "risk_aversion_coefficient is negative: -0.12133044490833006.\n",
      "Therefore, it is replaced with the value of 2.3.\n",
      "Portfolio: {'000270': 0.0306831651465621, '000660': 0.1179637599881887, '005380': 0.041699558967086, '005490': 0.0305616205460161, '005930': 0.5395385098098968, '006400': 0.048020230984553, '035420': 0.0308290162729984, '051910': 0.1607041382846988, '207940': 0.0}\n",
      "(Timestamp('2022-05-31 00:00:00'),)\n",
      "risk_aversion_coefficient is negative: -0.10459038753471528.\n",
      "Therefore, it is replaced with the value of 2.3.\n",
      "Portfolio: {'000270': 0.0285845118641215, '000660': 0.1565864931704668, '005380': 0.0, '005490': 0.0475561295101691, '005930': 0.5073856327913511, '006400': 0.096710129082428, '035420': 0.0095423875970272, '051910': 0.1536347159844365, '207940': 0.0}\n",
      "(Timestamp('2022-06-30 00:00:00'),)\n",
      "risk_aversion_coefficient is negative: -0.09338189483866925.\n",
      "Therefore, it is replaced with the value of 2.3.\n",
      "Portfolio: {'000270': 0.0024667230650111, '000660': 0.0905954232542223, '005380': 0.0232614596130808, '005490': 0.0, '005930': 0.605115552260795, '006400': 0.1134662793607704, '035420': 0.0, '051910': 0.1650945624461204, '207940': 0.0}\n",
      "(Timestamp('2022-07-31 00:00:00'),)\n",
      "risk_aversion_coefficient is negative: -0.03432797497487723.\n",
      "Therefore, it is replaced with the value of 2.3.\n",
      "Portfolio: {'000270': 0.1216589238924297, '000660': 0.1442861324413784, '005380': 0.0, '005490': 0.0193806019935834, '005930': 0.5144240486053406, '006400': 0.1046858646072861, '035420': 0.0, '051910': 0.0955644284599819, '207940': 0.0}\n",
      "(Timestamp('2022-08-31 00:00:00'),)\n",
      "risk_aversion_coefficient is negative: -0.03391733504371547.\n",
      "Therefore, it is replaced with the value of 2.3.\n",
      "Portfolio: {'000270': 0.1564770020508992, '000660': 0.4725402799472164, '005380': 0.0958405294249283, '005490': 0.0560154599687875, '005930': 0.0, '006400': 0.0592711078071002, '035420': 0.0001129759489494, '051910': 0.1597426448521188, '207940': 0.0}\n",
      "(Timestamp('2022-09-30 00:00:00'),)\n",
      "risk_aversion_coefficient is negative: -0.04913147330795132.\n",
      "Therefore, it is replaced with the value of 2.3.\n",
      "Portfolio: {'000270': 0.1049404432171424, '000660': 0.0, '005380': 0.0, '005490': 0.0, '005930': 0.7210532466986518, '006400': 0.1488103025208497, '035420': 0.0, '051910': 0.025196007563356, '207940': 0.0}\n",
      "(Timestamp('2022-10-31 00:00:00'),)\n",
      "risk_aversion_coefficient is negative: -0.03474774351613308.\n",
      "Therefore, it is replaced with the value of 2.3.\n",
      "Portfolio: {'000270': 0.1321665473282899, '000660': 0.32262619559366, '005380': 0.1066414028380535, '005490': 0.0, '005930': 0.3518685594474291, '006400': 0.0866972947925674, '035420': 0.0, '051910': 0.0, '207940': 0.0}\n",
      "(Timestamp('2022-11-30 00:00:00'),)\n",
      "risk_aversion_coefficient is negative: -0.0111365193566368.\n",
      "Therefore, it is replaced with the value of 2.3.\n",
      "Portfolio: {'000270': 0.0283301574565357, '000660': 0.120054742139194, '005380': 0.2588196615416794, '005490': 0.0249176003282486, '005930': 0.1267671385393003, '006400': 0.0793039779552343, '035420': 0.0, '051910': 0.0, '207940': 0.3618067220398078}\n",
      "(Timestamp('2022-12-31 00:00:00'),)\n",
      "risk_aversion_coefficient is negative: -0.024491334975125848.\n",
      "Therefore, it is replaced with the value of 2.3.\n",
      "Portfolio: {'000270': 0.0, '000660': 0.2529523673373686, '005380': 0.1129437194815309, '005490': 0.0394342148502356, '005930': 0.0, '006400': 0.0, '035420': 0.0, '051910': 0.0, '207940': 0.5946696983308651}\n",
      "(Timestamp('2023-01-31 00:00:00'),)\n",
      "risk_aversion_coefficient is negative: -0.006096213863617742.\n",
      "Therefore, it is replaced with the value of 2.3.\n",
      "Portfolio: {'000270': 0.0, '000660': 0.372828020067754, '005380': 0.0777143708179838, '005490': 0.0, '005930': 0.0, '006400': 0.0, '035420': 0.0, '051910': 0.0, '207940': 0.5494576091142621}\n",
      "(Timestamp('2023-02-28 00:00:00'),)\n",
      "risk_aversion_coefficient is negative: -0.0028271178152088714.\n",
      "Therefore, it is replaced with the value of 2.3.\n",
      "Portfolio: {'000270': 0.1599261030856424, '000660': 0.2902903950666191, '005380': 0.0, '005490': 0.0, '005930': 0.0, '006400': 0.012324079052989, '035420': 0.0, '051910': 0.0, '207940': 0.5374594227947497}\n",
      "(Timestamp('2023-03-31 00:00:00'),)\n",
      "Portfolio: {'000270': 0.2103185320380897, '000660': 0.1599821553467839, '005380': 0.0, '005490': 0.0, '005930': 0.0, '006400': 0.0, '035420': 0.0, '051910': 0.0, '207940': 0.6296993126151265}\n",
      "(Timestamp('2023-04-30 00:00:00'),)\n",
      "Portfolio: {'000270': 0.2074408858218891, '000660': 0.228270895639899, '005380': 0.0, '005490': 0.0026446512590873, '005930': 0.0, '006400': 0.0112937201050728, '035420': 0.0, '051910': 0.0, '207940': 0.5503498471740518}\n",
      "(Timestamp('2023-05-31 00:00:00'),)\n",
      "Portfolio: {'000270': 0.0, '000660': 0.2935783590288276, '005380': 0.1329864433149418, '005490': 0.0, '005930': 0.0, '006400': 0.0, '035420': 0.0674638043808765, '051910': 0.0, '207940': 0.5059713932753541}\n",
      "(Timestamp('2023-06-30 00:00:00'),)\n",
      "Portfolio: {'000270': 0.0, '000660': 0.3282086371954449, '005380': 0.1699505506883095, '005490': 0.0, '005930': 0.0, '006400': 0.0, '035420': 0.0054376739283561, '051910': 0.0, '207940': 0.4964031381878894}\n",
      "(Timestamp('2023-07-31 00:00:00'),)\n",
      "Portfolio: {'000270': 0.0, '000660': 0.2950175491043042, '005380': 0.2080642571023448, '005490': 0.0, '005930': 0.0, '006400': 0.0189801978789914, '035420': 0.00960600785964, '051910': 0.0, '207940': 0.4683319880547197}\n",
      "(Timestamp('2023-08-31 00:00:00'),)\n",
      "Portfolio: {'000270': 0.0, '000660': 0.3057162594942106, '005380': 0.2304308505723536, '005490': 0.0, '005930': 0.0, '006400': 0.0, '035420': 0.0, '051910': 0.0, '207940': 0.4638528899334359}\n",
      "(Timestamp('2023-09-30 00:00:00'),)\n",
      "Portfolio: {'000270': 0.0, '000660': 0.0131845562943902, '005380': 0.0, '005490': 0.0, '005930': 0.5699545447451675, '006400': 0.0, '035420': 0.0888748387980477, '051910': 0.0, '207940': 0.3279860601623948}\n"
     ]
    }
   ],
   "source": [
    "# Risk free rate\n",
    "risk_free = 0.00\n",
    "risk_aversion = None\n",
    "\n",
    "# Investor view matrix\n",
    "Q = np.array([0.02, 0.03])\n",
    "P = np.array([[0, 0, 0, 0, 0, 0, 0, 0, 1],\n",
    "              [0, 0, 0, 0, 0, 0, 0, -1, 1]])\n",
    "\n",
    "# B-L\n",
    "\n",
    "account = simulate_black_litterman(ohlcv_data=data,\n",
    "                                   window_length=window,\n",
    "                                   views=Q,\n",
    "                                   relation_matrix=P)"
   ]
  },
  {
   "cell_type": "markdown",
   "id": "8c62c214",
   "metadata": {
    "pycharm": {
     "name": "#%% md\n"
    }
   },
   "source": [
    "<h1> Simulation analysis</h1>"
   ]
  },
  {
   "cell_type": "code",
   "execution_count": null,
   "id": "1421e0a2",
   "metadata": {
    "pycharm": {
     "name": "#%%\n"
    }
   },
   "outputs": [],
   "source": [
    "df_account = pd.DataFrame(account.account_history).set_index('date')\n",
    "df_portfolio = pd.DataFrame(account.portfolio_history).set_index('date')\n",
    "analysis_fromdate = df_account.index[window]"
   ]
  },
  {
   "cell_type": "code",
   "execution_count": null,
   "id": "23c1f1f9",
   "metadata": {
    "pycharm": {
     "name": "#%%\n"
    }
   },
   "outputs": [],
   "source": [
    "returns = df_account['total_asset'].pct_change().loc[analysis_fromdate:]\n",
    "returns.name = 'return'\n",
    "returns.head()"
   ]
  },
  {
   "cell_type": "code",
   "execution_count": null,
   "id": "6dfbb0e7-cf48-4568-9bf6-9671a5071f63",
   "metadata": {},
   "outputs": [],
   "source": [
    "kospi = data_loader.load_index_data(ticker_list=['1001'], freq='m', delay=1)\n",
    "kospi_returns = kospi['close'].pct_change().loc[analysis_fromdate:]\n",
    "kospi_returns.iloc[0] = 0.0\n",
    "kospi_returns.name = 'kospi_return'\n",
    "kospi_returns.index.name = 'date'\n",
    "kospi_returns.head()"
   ]
  },
  {
   "cell_type": "code",
   "execution_count": null,
   "id": "7cf2fec4",
   "metadata": {
    "pycharm": {
     "name": "#%%\n"
    },
    "scrolled": true
   },
   "outputs": [],
   "source": [
    "cagr(returns=kospi_returns, freq='m')\n",
    "mdd(returns=kospi_returns)\n",
    "sharpe_ratio(returns=returns, freq='m')\n",
    "sortino_ratio(returns=returns, freq='m')"
   ]
  },
  {
   "cell_type": "code",
   "execution_count": null,
   "id": "d62f9749-ddd3-4188-a977-b2f430baf957",
   "metadata": {},
   "outputs": [],
   "source": [
    "plot_cumulative_return(returns=returns, benchmark_returns=kospi_returns,\n",
    "                       strategy_name='블랙-리터만',\n",
    "                       benchmark_name='코스피 지수')"
   ]
  },
  {
   "cell_type": "code",
   "execution_count": null,
   "id": "285681fa-8354-4be5-81de-ce10c695a93b",
   "metadata": {},
   "outputs": [],
   "source": []
  },
  {
   "cell_type": "code",
   "execution_count": null,
   "id": "21335788-a876-4989-b0e7-e09e735d44ab",
   "metadata": {},
   "outputs": [],
   "source": []
  }
 ],
 "metadata": {
  "kernelspec": {
   "display_name": "Python 3 (ipykernel)",
   "language": "python",
   "name": "python3"
  },
  "language_info": {
   "codemirror_mode": {
    "name": "ipython",
    "version": 3
   },
   "file_extension": ".py",
   "mimetype": "text/x-python",
   "name": "python",
   "nbconvert_exporter": "python",
   "pygments_lexer": "ipython3",
   "version": "3.11.7"
  },
  "toc-autonumbering": true
 },
 "nbformat": 4,
 "nbformat_minor": 5
}
